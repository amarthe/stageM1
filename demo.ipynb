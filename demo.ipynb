{
 "cells": [
  {
   "cell_type": "markdown",
   "metadata": {},
   "source": [
    "# Gaussian dictionnary learning demo"
   ]
  },
  {
   "cell_type": "code",
   "execution_count": null,
   "metadata": {},
   "outputs": [],
   "source": [
    "import matplotlib.pyplot as plt\n",
    "import numpy as np\n",
    "import math\n",
    "\n",
    "from gaussian_dictionary_learning import DictionaryLearningAlgorithm\n",
    "from utils import Gaussians, MetricsUtils\n",
    "\n",
    "from sklearn.decomposition import PCA\n",
    "\n",
    "# load the demo data, this is represents one grain in a sample\n",
    "X = np.load(\"Data/data.npy\")\n",
    "\n",
    "# Load the real spectra and activation map\n",
    "phases = np.array([np.load(\"Data/aspim020_3ph_nps_gauss_noisemap_p\" + str(i) + \".npy\") for i in range(3)])\n",
    "for i in range(80):\n",
    "    for j in range(80):\n",
    "        phases[0,i,j] = 1 - phases[1,i,j] - phases[2,i,j] \n",
    "spctrs = np.array([np.loadtxt(\"Data/aspim020_3ph_nps_gauss_noisespectrum_p\" + str(i) + \".asc\" ) for i in range(3)])\n",
    "spctrs = [i/np.sum(i)*200 for i in spctrs]\n",
    "\n",
    "# load the scale of the spectra (used to plot spectra)\n",
    "x_scale = Gaussians().x\n",
    "\n",
    "p_matr = []\n",
    "a_matr = []\n",
    "d_matr = []"
   ]
  },
  {
   "cell_type": "markdown",
   "metadata": {},
   "source": [
    "### The parameters\n",
    "* NUM_PHASES: the number of phases in the data\n",
    "* l: the number of execution of the algorithm to make\n",
    "* MUs: Each 'MU' corredponds to a regularization. The two new one are MU_FRO (frobenius norm of D) and MU_SPARS for the sparsity regularization.\n",
    "* init_methods: can be either `random`, `average`, `smart` or `plan`. The firtst one is the default, the second assigns the average spectra of the data to the first column of D, the third one is the new initialization implemented during the internship, and the last one initialize randomly the spectra but in the same subspace as the Data.\n",
    "* first_column_regularized: set it to `True` for the new regularization not to affect the \"matrix\" endemember (first column of D and A)."
   ]
  },
  {
   "cell_type": "code",
   "execution_count": null,
   "metadata": {},
   "outputs": [],
   "source": [
    "NUM_PHASES = 3\n",
    "l = 1\n",
    "MU_LAPLs = [0.]\n",
    "MU_ABSs = [0.]\n",
    "MU_FROs = [0.]\n",
    "MU_SPARSs = [0.1]\n",
    "first_column_regularizeds = [True]\n",
    "init_methods = [\"average\"]"
   ]
  },
  {
   "cell_type": "markdown",
   "metadata": {},
   "source": [
    "### The algorithm"
   ]
  },
  {
   "cell_type": "code",
   "execution_count": null,
   "metadata": {},
   "outputs": [],
   "source": [
    "for i in range(l):\n",
    "    print(\"i = \" + str(i))\n",
    "    MU_LAPL, MU_ABS, MU_FRO, MU_SPARS = MU_LAPLs[i], MU_ABSs[i], MU_FROs[i], MU_SPARSs[i]\n",
    "    init_method,  first_column_regularized = init_methods[i], first_column_regularizeds[i]\n",
    "    \n",
    "    dl = DictionaryLearningAlgorithm(num_phases=NUM_PHASES, mu_lapl=MU_LAPL, mu_abs=MU_ABS, mu_fro=MU_FRO, mu_spars=MU_SPARS)\n",
    "    p_mat, a_mat = dl.fit(X, max_iter=2000, tol_function=0.001, initialize_method=init_method, matrix_regularized=first_column_regularized)\n",
    "    p_matr.append(p_mat)\n",
    "    a_matr.append(a_mat)\n",
    "    d_matr.append(dl.d_matr)"
   ]
  },
  {
   "cell_type": "markdown",
   "metadata": {},
   "source": [
    "### Permutations\n",
    "\n",
    "Not necessary. It is used to print the next graphics with each phases in the right order"
   ]
  },
  {
   "cell_type": "code",
   "execution_count": null,
   "metadata": {},
   "outputs": [],
   "source": [
    "p1 = np.argmin([MetricsUtils.spectral_angle(spctrs[0], d_matr[i][:,0]), MetricsUtils.spectral_angle(spctrs[0], d_matr[i][:,1]), MetricsUtils.spectral_angle(spctrs[0], d_matr[i][:,2])])\n",
    "p2 = np.argmin([MetricsUtils.spectral_angle(spctrs[1], d_matr[i][:,0]), MetricsUtils.spectral_angle(spctrs[1], d_matr[i][:,1]), MetricsUtils.spectral_angle(spctrs[1], d_matr[i][:,2])]) \n",
    "p3 = np.argmin([MetricsUtils.spectral_angle(spctrs[2], d_matr[i][:,0]), MetricsUtils.spectral_angle(spctrs[2], d_matr[i][:,1]), MetricsUtils.spectral_angle(spctrs[2], d_matr[i][:,2])])\n",
    "\n",
    "permutation = [p1,p2,p3]\n",
    "\n",
    "p_matr = np.array(p_matr)\n",
    "d_matr = np.array(d_matr)\n",
    "a_matr = np.array(a_matr)\n",
    "\n",
    "temp_d = d_matr[i]\n",
    "temp_p = p_matr[i]\n",
    "temp_a = a_matr[i]\n",
    "\n",
    "d_matr[i] = temp_d[:,permutation]\n",
    "a_matr[i] = temp_a[permutation,:]\n",
    "p_matr[i] = temp_p[:,permutation]"
   ]
  },
  {
   "cell_type": "markdown",
   "metadata": {},
   "source": [
    "### The spectra\n",
    "Prints the spectra"
   ]
  },
  {
   "cell_type": "code",
   "execution_count": null,
   "metadata": {},
   "outputs": [],
   "source": [
    "d_mat = d_matr[i]\n",
    "\n",
    "fig1 = plt.figure(figsize=(20, 5))\n",
    "plt.subplot(131)\n",
    "plt.plot(x_scale, spctrs[0], label='real')\n",
    "plt.plot(x_scale, d_mat[: , 0], label='learned')\n",
    "plt.legend(loc=\"upper right\")\n",
    "plt.xlim(0, 8)\n",
    "plt.xlabel(\"Energy [kEv]\")\n",
    "plt.ylabel(\"Intensity\")\n",
    "plt.title(\"Learned spectrum of phase 1\")\n",
    "\n",
    "plt.subplot(132)\n",
    "plt.plot(x_scale, spctrs[1], label='real')\n",
    "plt.plot(x_scale, d_mat[: , 1], label='learned')\n",
    "plt.legend(loc=\"upper right\")\n",
    "plt.xlim(0, 8)\n",
    "plt.xlabel(\"Energy [kEv]\")\n",
    "plt.ylabel(\"Intensity\")\n",
    "plt.title(\"Learned spectrum of phase 2\")\n",
    "\n",
    "plt.subplot(133)\n",
    "plt.plot(x_scale, spctrs[2], label='real' )\n",
    "plt.plot(x_scale, d_mat[: , 2], label='learned')\n",
    "plt.legend(loc=\"upper right\")\n",
    "plt.xlim(0, 8)\n",
    "plt.xlabel(\"Energy [kEv]\")\n",
    "plt.ylabel(\"Intensity\")\n",
    "plt.title(\"Learned spectrum of phase 3\")\n",
    "plt.show()"
   ]
  },
  {
   "cell_type": "markdown",
   "metadata": {},
   "source": [
    "### Activation map\n",
    "\n",
    "prints the activation maps"
   ]
  },
  {
   "cell_type": "code",
   "execution_count": null,
   "metadata": {},
   "outputs": [],
   "source": [
    "fig2 = plt.figure(figsize=(16.5, 4.5))\n",
    "plt.subplot(131)\n",
    "plt.imshow(a_matr[i].T.reshape(*X.shape[:2], NUM_PHASES)[:, :, 0], cmap=\"viridis\")\n",
    "#plt.imshow(phases.T.reshape(*dl.x_shape[:2], NUM_PHASES)[:, :, 0].T, cmap=\"viridis\")\n",
    "plt.grid(b=30)\n",
    "plt.title(\"Activations of first spectrum\")\n",
    "plt.colorbar()\n",
    "plt.clim(0, 1)\n",
    "\n",
    "plt.subplot(132)\n",
    "plt.imshow(a_matr[i].T.reshape(*X.shape[:2], NUM_PHASES)[:, :, 1], cmap=\"viridis\")\n",
    "#plt.imshow(phases.T.reshape(*dl.x_shape[:2], NUM_PHASES)[:, :, 1].T, cmap=\"viridis\")\n",
    "plt.grid(b=30)\n",
    "plt.title(\"Activations of second spectrum\")\n",
    "plt.colorbar()\n",
    "plt.clim(0, 1)\n",
    "\n",
    "plt.subplot(133)\n",
    "plt.imshow(a_matr[i].T.reshape(*X.shape[:2], NUM_PHASES)[:, :, 2], cmap=\"viridis\")\n",
    "#plt.imshow(phases.T.reshape(*dl.x_shape[:2], NUM_PHASES)[:, :, 2].T, cmap=\"viridis\")\n",
    "plt.grid(b=30)\n",
    "plt.title(\"Activations of third spectrum\")\n",
    "plt.colorbar()\n",
    "plt.clim(0, 1)"
   ]
  },
  {
   "cell_type": "markdown",
   "metadata": {},
   "source": [
    "### Planar projection\n",
    "\n",
    "prints the planar projection of the data, with comparaison with the real spectra."
   ]
  },
  {
   "cell_type": "code",
   "execution_count": null,
   "metadata": {},
   "outputs": [],
   "source": [
    "Y = X.reshape((X.shape[0] * X.shape[1], X.shape[2]))  # flatten X\n",
    "\n",
    "pca = PCA(n_components=2)\n",
    "pca.fit(Y)\n",
    "Y = pca.transform(Y)\n",
    "\n",
    "fig = plt.figure()\n",
    "color=['green','red','cyan','magenta','yellow']\n",
    "#label=['µ = ' + str(MU_DCs[i]) for i in range(l)]\n",
    "plt.scatter(Y[:,0],Y[:,1], color='blue')\n",
    "\n",
    "rs = pca.transform(spctrs)\n",
    "plt.scatter(rs[:,0],rs[:,1], color='black', label = \"real\")\n",
    "\n",
    "for i in range(l):\n",
    "    s1 = pca.transform([d_matr[i][:,0]])\n",
    "    s2 = pca.transform([d_matr[i][:,1]])\n",
    "    s3 = pca.transform([d_matr[i][:,2]])\n",
    "    ss = np.array([s1,s2,s3,s1])\n",
    "\n",
    "    #plt.scatter(ss[:,0,0],ss[:,0,1], label=label[i], color=color[i])\n",
    "    plt.scatter(ss[:,0,0],ss[:,0,1], color=color[i])\n",
    "    \n",
    "#fig.savefig(name)\n",
    "plt.legend(loc='upper right', numpoints=1, ncol=2, fontsize=8)\n",
    "plt.show()"
   ]
  },
  {
   "cell_type": "markdown",
   "metadata": {},
   "source": [
    "### Metrics\n",
    "\n",
    "Give the result of the Spectral Angle and MSE"
   ]
  },
  {
   "cell_type": "code",
   "execution_count": null,
   "metadata": {},
   "outputs": [],
   "source": [
    "angle_res = []\n",
    "mse_res   = []\n",
    "\n",
    "for i in range(l):\n",
    "    angle_res.append([min(MetricsUtils.spectral_angle(spctrs[0], d_matr[i][:,0]), MetricsUtils.spectral_angle(spctrs[0], d_matr[i][:,1]), MetricsUtils.spectral_angle(spctrs[0], d_matr[i][:,2])),   \\\n",
    "                      min(MetricsUtils.spectral_angle(spctrs[1], d_matr[i][:,0]), MetricsUtils.spectral_angle(spctrs[1], d_matr[i][:,1]), MetricsUtils.spectral_angle(spctrs[1], d_matr[i][:,2])),   \\\n",
    "                      min(MetricsUtils.spectral_angle(spctrs[2], d_matr[i][:,0]), MetricsUtils.spectral_angle(spctrs[2], d_matr[i][:,1]), MetricsUtils.spectral_angle(spctrs[2], d_matr[i][:,2]))])       \n",
    "    mse_res.append([MetricsUtils.MSE_map(phases[0],a_matr[i][0].reshape(*dl.x_shape[:2])),                \\\n",
    "                     MetricsUtils.MSE_map(phases[1],a_matr[i][1].reshape(*dl.x_shape[:2])),                 \\\n",
    "                     MetricsUtils.MSE_map(phases[2],a_matr[i][2].reshape(*dl.x_shape[:2])) ])\n",
    "angle_res = np.array(angle_res)       \n",
    "mse_res = np.array(mse_res)\n",
    "\n",
    "print(angle_res)\n",
    "print(mse_res)"
   ]
  },
  {
   "cell_type": "code",
   "execution_count": null,
   "metadata": {},
   "outputs": [],
   "source": []
  }
 ],
 "metadata": {
  "kernelspec": {
   "display_name": "Python 3",
   "language": "python",
   "name": "python3"
  },
  "language_info": {
   "codemirror_mode": {
    "name": "ipython",
    "version": 3
   },
   "file_extension": ".py",
   "mimetype": "text/x-python",
   "name": "python",
   "nbconvert_exporter": "python",
   "pygments_lexer": "ipython3",
   "version": "3.8.5"
  }
 },
 "nbformat": 4,
 "nbformat_minor": 4
}
